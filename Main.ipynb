{
 "cells": [
  {
   "cell_type": "code",
   "execution_count": 1,
   "metadata": {},
   "outputs": [
    {
     "name": "stdout",
     "output_type": "stream",
     "text": [
      "Requirement already satisfied: cmake in c:\\users\\saurabh\\anaconda3\\lib\\site-packages (3.18.4.post1)\n",
      "Requirement already satisfied: dlib in c:\\users\\saurabh\\anaconda3\\lib\\site-packages (19.21.1)\n",
      "Requirement already satisfied: face_recognition in c:\\users\\saurabh\\anaconda3\\lib\\site-packages (1.3.0)\n",
      "Requirement already satisfied: numpy in c:\\users\\saurabh\\anaconda3\\lib\\site-packages (1.19.5)\n",
      "Requirement already satisfied: Click>=6.0 in c:\\users\\saurabh\\anaconda3\\lib\\site-packages (from face_recognition) (7.1.2)\n",
      "Requirement already satisfied: Pillow in c:\\users\\saurabh\\anaconda3\\lib\\site-packages (from face_recognition) (7.2.0)\n",
      "Requirement already satisfied: face-recognition-models>=0.3.0 in c:\\users\\saurabh\\anaconda3\\lib\\site-packages (from face_recognition) (0.3.0)\n"
     ]
    }
   ],
   "source": [
    "!pip install cmake dlib face_recognition numpy"
   ]
  },
  {
   "cell_type": "markdown",
   "metadata": {},
   "source": [
    "# Libraries"
   ]
  },
  {
   "cell_type": "code",
   "execution_count": 1,
   "metadata": {},
   "outputs": [],
   "source": [
    "import cv2\n",
    "import numpy as np\n",
    "import face_recognition\n",
    "import os\n",
    "from datetime import datetime"
   ]
  },
  {
   "cell_type": "code",
   "execution_count": 2,
   "metadata": {},
   "outputs": [
    {
     "data": {
      "text/plain": [
       "'C:\\\\Users\\\\amb\\\\Downloads\\\\attendance system\\\\Attendance-with-Face-Recognition'"
      ]
     },
     "execution_count": 2,
     "metadata": {},
     "output_type": "execute_result"
    }
   ],
   "source": [
    "pwd"
   ]
  },
  {
   "cell_type": "markdown",
   "metadata": {},
   "source": [
    "# Path for test images"
   ]
  },
  {
   "cell_type": "code",
   "execution_count": 3,
   "metadata": {},
   "outputs": [
    {
     "name": "stdout",
     "output_type": "stream",
     "text": [
      "['Ahmed ibrahim.jpg', 'Elon Musk.jpg', 'Jeff Bezoz.jpg', 'Messi.webp', 'Ryan Reynolds.jpg', 'treka.jpg']\n"
     ]
    }
   ],
   "source": [
    "path = 'AttendanceImages'\n",
    "images = []\n",
    "classNames = []\n",
    "myList = os.listdir(path)\n",
    "print(myList)"
   ]
  },
  {
   "cell_type": "markdown",
   "metadata": {},
   "source": [
    "# Extracting names from the List"
   ]
  },
  {
   "cell_type": "code",
   "execution_count": 4,
   "metadata": {},
   "outputs": [
    {
     "name": "stdout",
     "output_type": "stream",
     "text": [
      "['Ahmed ibrahim', 'Elon Musk', 'Jeff Bezoz', 'Messi', 'Ryan Reynolds', 'treka']\n"
     ]
    }
   ],
   "source": [
    "for cl in myList:\n",
    "    curImg = cv2.imread(f'{path}/{cl}')\n",
    "    images.append(curImg)\n",
    "    classNames.append(os.path.splitext(cl)[0])\n",
    "print(classNames)"
   ]
  },
  {
   "cell_type": "markdown",
   "metadata": {},
   "source": [
    "# Converting the Images into Encodings"
   ]
  },
  {
   "cell_type": "code",
   "execution_count": 6,
   "metadata": {},
   "outputs": [],
   "source": [
    "def findEncodings(images):\n",
    "    encodeList = []\n",
    "    for img in images:\n",
    "        img = cv2.cvtColor(img, cv2.COLOR_BGR2RGB)\n",
    "        encode = face_recognition.face_encodings(img)[0]\n",
    "        encodeList.append(encode)\n",
    "    return encodeList"
   ]
  },
  {
   "cell_type": "markdown",
   "metadata": {},
   "source": [
    "# Marking Attendance"
   ]
  },
  {
   "cell_type": "code",
   "execution_count": 7,
   "metadata": {},
   "outputs": [
    {
     "name": "stdout",
     "output_type": "stream",
     "text": [
      "Encoding Complete\n"
     ]
    }
   ],
   "source": [
    "def markAttendance(name):\n",
    "    with open('Attendance.csv','r+') as f:\n",
    "        myDataList = f.readlines()\n",
    "        nameList = []\n",
    "        for line in myDataList:\n",
    "            entry = line.split(',')\n",
    "            nameList.append(entry[0])\n",
    "        if name not in nameList:\n",
    "            now = datetime.now()\n",
    "            dtString = now.strftime('%H:%M:%S')\n",
    "            f.writelines(f'\\n{name},{dtString}')\n",
    "        \n",
    "\n",
    "encodeListKnown = findEncodings(images)\n",
    "print('Encoding Complete')\n"
   ]
  },
  {
   "cell_type": "markdown",
   "metadata": {},
   "source": [
    "# Camera  Access and Capturing the Face"
   ]
  },
  {
   "cell_type": "code",
   "execution_count": 16,
   "metadata": {},
   "outputs": [
    {
     "name": "stdout",
     "output_type": "stream",
     "text": [
      "matches [True, False, False, False, False, False]\n",
      "[0.46268622 0.85136075 0.89716433 0.70533683 0.79221977 0.66947333]\n",
      "AHMED IBRAHIM\n",
      "matches [True, False, False, False, False, False]\n",
      "[0.47412574 0.90159124 0.83590901 0.77331387 0.84128266 0.74494309]\n",
      "AHMED IBRAHIM\n",
      "matches [True, False, False, False, False, False]\n",
      "[0.44246244 0.77311929 0.88324544 0.68117972 0.7736796  0.64718137]\n",
      "AHMED IBRAHIM\n",
      "matches [True, False, False, False, False, False]\n",
      "[0.52334616 0.73169251 0.83682351 0.69184362 0.81685213 0.71622436]\n",
      "AHMED IBRAHIM\n",
      "matches [True, False, False, False, False, False]\n",
      "[0.36689225 0.85850594 0.8988817  0.74689482 0.80332597 0.70665644]\n",
      "AHMED IBRAHIM\n",
      "matches [True, False, False, False, False, False]\n",
      "[0.43186003 0.85970351 0.93084011 0.75076338 0.83315947 0.76505542]\n",
      "AHMED IBRAHIM\n",
      "matches [True, False, False, False, False, False]\n",
      "[0.40814955 0.86408439 0.90362826 0.7379361  0.83337919 0.75150066]\n",
      "AHMED IBRAHIM\n",
      "matches [True, False, False, False, False, False]\n",
      "[0.40023197 0.84986055 0.91219471 0.73819343 0.83446374 0.74715006]\n",
      "AHMED IBRAHIM\n",
      "matches [True, False, False, False, False, True]\n",
      "[0.44701097 0.88782819 0.85832517 0.68080016 0.8083286  0.59197581]\n",
      "AHMED IBRAHIM\n",
      "matches [True, False, False, False, False, False]\n",
      "[0.48650524 0.84016065 0.81076479 0.7513178  0.75300365 0.63346956]\n",
      "AHMED IBRAHIM\n",
      "matches [True, False, False, False, False, False]\n",
      "[0.41272247 0.86595515 0.92806799 0.7409211  0.83805395 0.75765782]\n",
      "AHMED IBRAHIM\n",
      "matches [True, False, False, False, False, False]\n",
      "[0.43711421 0.86059336 0.9383302  0.71719245 0.84453729 0.75913508]\n",
      "AHMED IBRAHIM\n",
      "matches [True, False, False, False, False, False]\n",
      "[0.40101129 0.85366214 0.93212307 0.75206232 0.83260936 0.7334509 ]\n",
      "AHMED IBRAHIM\n",
      "matches [True, False, False, False, False, False]\n",
      "[0.41617497 0.84948111 0.92055167 0.71768839 0.82711885 0.73478372]\n",
      "AHMED IBRAHIM\n",
      "matches [True, False, False, False, False, False]\n",
      "[0.4373997  0.88034805 0.92351161 0.76517105 0.84460154 0.74156765]\n",
      "AHMED IBRAHIM\n",
      "matches [True, False, False, False, False, False]\n",
      "[0.39665099 0.86741807 0.89089156 0.70878611 0.82751555 0.72345784]\n",
      "AHMED IBRAHIM\n",
      "matches [True, False, False, False, False, False]\n",
      "[0.40874897 0.85263654 0.89636472 0.70259918 0.80890447 0.74395086]\n",
      "AHMED IBRAHIM\n",
      "matches [True, False, False, False, False, False]\n",
      "[0.38626399 0.87371737 0.9084462  0.71956746 0.84228124 0.75700827]\n",
      "AHMED IBRAHIM\n",
      "matches [True, False, False, False, False, False]\n",
      "[0.4167397  0.87102956 0.84142355 0.68751525 0.8437584  0.70671407]\n",
      "AHMED IBRAHIM\n",
      "matches [True, False, False, False, False, False]\n",
      "[0.41990345 0.87752396 0.86212272 0.67897234 0.84634122 0.70486486]\n",
      "AHMED IBRAHIM\n",
      "matches [True, False, False, False, False, False]\n",
      "[0.46736055 0.92565876 0.908944   0.7188952  0.87797555 0.67982454]\n",
      "AHMED IBRAHIM\n",
      "matches [True, False, False, False, False, False]\n",
      "[0.43425106 0.88394777 0.83205556 0.69736864 0.82484211 0.66435667]\n",
      "AHMED IBRAHIM\n",
      "matches [True, False, False, False, False, False]\n",
      "[0.42005659 0.89358734 0.82280059 0.71560202 0.84661269 0.68250728]\n",
      "AHMED IBRAHIM\n",
      "matches [True, False, False, False, False, False]\n",
      "[0.46005401 0.89243167 0.83247163 0.69050553 0.83625415 0.68130341]\n",
      "AHMED IBRAHIM\n",
      "matches [True, False, False, False, False, False]\n",
      "[0.43679752 0.82868226 0.80716558 0.75130841 0.82185995 0.65470482]\n",
      "AHMED IBRAHIM\n",
      "matches [False, False, False, False, False, True]\n",
      "[0.63091538 0.85323593 0.86800456 0.80460527 0.65915319 0.53019264]\n",
      "TREKA\n",
      "matches [False, False, False, False, False, True]\n",
      "[0.63870026 0.90789549 0.91202689 0.7575455  0.66345777 0.4649835 ]\n",
      "TREKA\n",
      "matches [False, False, False, False, False, True]\n",
      "[0.64691362 0.91344489 0.9205753  0.76099375 0.6972536  0.46109649]\n",
      "TREKA\n",
      "matches [False, False, False, False, False, True]\n",
      "[0.65522001 0.88864825 0.90081764 0.79216328 0.72350981 0.45475909]\n",
      "TREKA\n",
      "matches [True, False, False, False, False, False]\n",
      "[0.46814046 0.84665825 0.82169595 0.78389238 0.80603958 0.68409252]\n",
      "AHMED IBRAHIM\n",
      "matches [True, False, False, False, False, False]\n",
      "[0.40909126 0.85929491 0.80382859 0.65811856 0.79900411 0.69837782]\n",
      "AHMED IBRAHIM\n",
      "matches [True, False, False, False, False, False]\n",
      "[0.43508109 0.88280135 0.77470242 0.6950464  0.82044041 0.71983321]\n",
      "AHMED IBRAHIM\n",
      "matches [True, False, False, False, False, False]\n",
      "[0.43086617 0.9009647  0.83973396 0.73182937 0.83245717 0.69067174]\n",
      "AHMED IBRAHIM\n",
      "matches [True, False, False, False, False, False]\n",
      "[0.39988719 0.85876295 0.88130247 0.73574278 0.80625028 0.70851102]\n",
      "AHMED IBRAHIM\n",
      "matches [False, False, True, False, False, False]\n",
      "[0.71253975 0.82876337 0.57543692 0.80271523 0.79400857 0.74186431]\n",
      "JEFF BEZOZ\n",
      "matches [False, False, True, False, False, False]\n",
      "[0.76704674 0.89455496 0.500316   0.85243269 0.80232126 0.77558143]\n",
      "JEFF BEZOZ\n",
      "matches [False, False, True, False, False, False]\n",
      "[0.77767845 0.874975   0.52611705 0.8406302  0.76704207 0.75412083]\n",
      "JEFF BEZOZ\n",
      "matches [False, False, False, False, False, False]\n",
      "[0.73364414 0.85136124 0.65759262 0.79755689 0.79400277 0.75337626]\n",
      "matches [False, False, True, False, False, False]\n",
      "[0.76320794 0.85762973 0.51008378 0.87116318 0.7966511  0.80395186]\n",
      "JEFF BEZOZ\n",
      "matches [True, False, False, False, False, False]\n",
      "[0.49573364 0.82872587 0.81853245 0.77851521 0.79270178 0.68395931]\n",
      "AHMED IBRAHIM\n",
      "matches [True, False, False, False, False, False]\n",
      "[0.51202474 0.9014325  0.87340184 0.75806478 0.82062107 0.68011715]\n",
      "AHMED IBRAHIM\n",
      "matches [True, False, False, False, False, False]\n",
      "[0.43434891 0.8402821  0.86463852 0.75771807 0.79523849 0.67754495]\n",
      "AHMED IBRAHIM\n",
      "matches [False, False, False, False, False, False]\n",
      "[0.72359148 0.80805837 0.93653491 0.61121234 0.70747217 0.76280256]\n",
      "matches [False, False, False, True, False, False]\n",
      "[0.76087049 0.91234341 1.04114546 0.51612047 0.70500036 0.77856662]\n",
      "MESSI\n",
      "matches [False, False, False, True, False, False]\n",
      "[0.80693108 0.89931437 1.04561526 0.52768616 0.70975444 0.79153944]\n",
      "MESSI\n",
      "matches [False, False, False, True, False, False]\n",
      "[0.79279638 0.92823479 1.04437097 0.49807462 0.72672501 0.79621336]\n",
      "MESSI\n",
      "matches [False, False, False, True, False, False]\n",
      "[0.77918121 0.90192159 1.04157379 0.5070545  0.71207428 0.79363166]\n",
      "MESSI\n",
      "matches [True, False, False, False, False, False]\n",
      "[0.48207267 0.82814098 0.86584072 0.79952559 0.79320911 0.66515155]\n",
      "AHMED IBRAHIM\n",
      "matches [True, False, False, False, False, False]\n",
      "[0.45876365 0.86945549 0.85754112 0.74145692 0.8062485  0.69891862]\n",
      "AHMED IBRAHIM\n",
      "matches [True, False, False, False, False, False]\n",
      "[0.47900728 0.88244705 0.87330904 0.74861055 0.85923523 0.64524727]\n",
      "AHMED IBRAHIM\n",
      "matches [True, False, False, False, False, False]\n",
      "[0.41758224 0.87300752 0.89901952 0.77099268 0.84172097 0.71437568]\n",
      "AHMED IBRAHIM\n",
      "matches [True, False, False, False, False, False]\n",
      "[0.40000794 0.88056219 0.91886647 0.75967422 0.82132873 0.67314822]\n",
      "AHMED IBRAHIM\n",
      "matches [True, False, False, False, False, False]\n",
      "[0.41090245 0.87391607 0.90737533 0.7655802  0.82210791 0.70450626]\n",
      "AHMED IBRAHIM\n",
      "matches [True, False, False, False, False, False]\n",
      "[0.40953818 0.87452858 0.91387751 0.76220351 0.83725261 0.71040897]\n",
      "AHMED IBRAHIM\n",
      "matches [True, False, False, False, False, False]\n",
      "[0.41252108 0.91835274 0.91900245 0.79190198 0.86499391 0.74205463]\n",
      "AHMED IBRAHIM\n",
      "matches [True, False, False, False, False, False]\n",
      "[0.42488341 0.84761732 0.88912715 0.75211982 0.83759739 0.73283516]\n",
      "AHMED IBRAHIM\n",
      "matches [True, False, False, False, False, False]\n",
      "[0.42534513 0.86448135 0.90008184 0.7679922  0.85042113 0.72484211]\n",
      "AHMED IBRAHIM\n"
     ]
    }
   ],
   "source": [
    "cap = cv2.VideoCapture(0)\n",
    "frame_resizing = 0.25\n",
    "\n",
    "while True:\n",
    "    success, img = cap.read()\n",
    "    imgS = cv2.resize(img, (0, 0), fx=frame_resizing, fy=frame_resizing)\n",
    "    imgS = cv2.cvtColor(imgS, cv2.COLOR_BGR2RGB)\n",
    " \n",
    "    facesCurFrame = face_recognition.face_locations(imgS)\n",
    "    encodesCurFrame = face_recognition.face_encodings(imgS,facesCurFrame)\n",
    " \n",
    "    for encodeFace,faceLoc in zip(encodesCurFrame,facesCurFrame):\n",
    "        matches = face_recognition.compare_faces(encodeListKnown,encodeFace)\n",
    "        print('matches',matches)\n",
    "        faceDis = face_recognition.face_distance(encodeListKnown,encodeFace)\n",
    "        print(faceDis)\n",
    "        matchIndex = np.argmin(faceDis)\n",
    "        if matches[matchIndex]:\n",
    "            name = classNames[matchIndex].upper()\n",
    "            print(name)\n",
    "            \n",
    "            faceLoc = np.array(faceLoc)\n",
    "            faceLoc = faceLoc / 0.25\n",
    "            faceLoc=faceLoc.astype(int)\n",
    "            #y1,x2,y2,x1 = faceLoc # in the other code we risize the face\n",
    "            #y1, x2, y2, x1 = y1*4,x2*4,y2*4,x1*4\n",
    "            y1, x2, y2, x1 = faceLoc[0], faceLoc[1], faceLoc[2], faceLoc[3]\n",
    "         \n",
    "            cv2.rectangle(img,(x1,y1),(x2,y2),(0,255,0),2)\n",
    "            cv2.rectangle(img,(x1,y2-35),(x2,y2),(0,255,0),cv2.FILLED)\n",
    "            cv2.putText(img,name,(x1+6,y2-6),cv2.FONT_HERSHEY_COMPLEX,1,(255,255,255),2)\n",
    "            markAttendance(name)\n",
    " \n",
    "    cv2.imshow('Webcam',img)\n",
    "    key = cv2.waitKey(1)\n",
    "    if key == 27:\n",
    "        break\n",
    "cap.release()\n",
    "cv2.destroyAllWindows()"
   ]
  },
  {
   "cell_type": "code",
   "execution_count": null,
   "metadata": {},
   "outputs": [],
   "source": []
  },
  {
   "cell_type": "code",
   "execution_count": null,
   "metadata": {},
   "outputs": [],
   "source": []
  }
 ],
 "metadata": {
  "kernelspec": {
   "display_name": "Python 3",
   "language": "python",
   "name": "python3"
  },
  "language_info": {
   "codemirror_mode": {
    "name": "ipython",
    "version": 3
   },
   "file_extension": ".py",
   "mimetype": "text/x-python",
   "name": "python",
   "nbconvert_exporter": "python",
   "pygments_lexer": "ipython3",
   "version": "3.6.13"
  }
 },
 "nbformat": 4,
 "nbformat_minor": 4
}
